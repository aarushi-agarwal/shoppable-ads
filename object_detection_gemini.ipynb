{
 "cells": [
  {
   "cell_type": "code",
   "execution_count": 2,
   "metadata": {},
   "outputs": [
    {
     "name": "stdout",
     "output_type": "stream",
     "text": [
      "🔍 **Shoppable Objects Detected:**\n",
      "\n",
      "Here's a CSV representation of the shoppable objects in the image. Note that some details, like precise material composition or brand, can't be determined from the image alone.\n",
      "\n",
      "\n",
      "```csv\n",
      "Object,Color,Description,Material,Product Details\n",
      "Angel Figurine,Dark Gray/Greenish Bronze,Cherubic angel statue,Metal (likely resin or composite),Ornate detailing, possibly antique or vintage style.\n",
      "Silver Vase,Silver,Silver vase,Metal (likely silver-plated),Holds a bouquet of tuberose flowers; cylindrical shape.\n",
      "Tuberose Bouquet,Off-white/Green,Bunch of tuberose flowers,Flowers,Fragrant, elegant bouquet.\n",
      "Decanter (large),Clear/Dark Red,Glass decanter,Glass,Contains a dark red liquid, likely wine or liqueur.\n",
      "Decanter (small),Clear/Dark Red,Smaller glass decanter,Glass,Contains a dark red liquid, likely wine or liqueur.\n",
      "Small Silver Container,Silver,Small decorative container,Metal (likely silver-plated),Round, possibly a votive or trinket holder.\n",
      "\n",
      "```\n",
      "\n"
     ]
    }
   ],
   "source": [
    "\n",
    "# testing object detection using gemini ai api on a single image \n",
    "\n",
    "import google.generativeai as genai\n",
    "import os\n",
    "import PIL.Image\n",
    "from dotenv import load_dotenv\n",
    "load_dotenv()\n",
    "\n",
    "# ✅ Securely Load API Key (Environment Variable)\n",
    "# api_key = os.getenv(\"GEMINI_API_KEY\")  # Or set manually: api_key = \"your_api_key_here\"\n",
    "api_key = os.getenv('API_KEY')\n",
    "if not api_key:\n",
    "    raise ValueError(\"❌ API Key not found! Set GEMINI_API_KEY as an environment variable.\")\n",
    "\n",
    "# ✅ Configure Gemini AI with the API Key\n",
    "genai.configure(api_key=api_key)\n",
    "\n",
    "# ✅ Load Image from Local Storage\n",
    "# image_path = \"/Users/aarushia/Downloads/living_room.jpg\"  # Update with your image path\n",
    "image_path = \"./data/frames/frame_3655.jpg\"\n",
    "image = PIL.Image.open(image_path)\n",
    "\n",
    "# Display the image\n",
    "image.show()\n",
    "\n",
    "# ✅ Convert Image to Bytes (Required for Gemini AI)\n",
    "def encode_image(image_path):\n",
    "    with open(image_path, \"rb\") as img_file:\n",
    "        return img_file.read()\n",
    "\n",
    "image_bytes = encode_image(image_path)\n",
    "\n",
    "# ✅ Define Prompt for Gemini AI\n",
    "prompt = (\n",
    "    \"Identify all shoppable objects in this image and provide metadata including \"\n",
    "    \"color, description, material, and any relevant product details. Give me the output in csv format.\"\n",
    ")\n",
    "\n",
    "# ✅ Send Image + Prompt to Google Gemini AI (`gemini-1.5-flash`)\n",
    "model = genai.GenerativeModel(\"gemini-1.5-flash\")\n",
    "\n",
    "\n",
    "image = PIL.Image.open(image_path)  # Load as a PIL image\n",
    "response = model.generate_content([prompt, image])  # Pass the image object\n",
    "\n",
    "\n",
    "# ✅ Print Extracted Metadata\n",
    "print(\"🔍 **Shoppable Objects Detected:**\\n\")\n",
    "print(response.text)\n"
   ]
  }
 ],
 "metadata": {
  "kernelspec": {
   "display_name": "Python 3",
   "language": "python",
   "name": "python3"
  },
  "language_info": {
   "codemirror_mode": {
    "name": "ipython",
    "version": 3
   },
   "file_extension": ".py",
   "mimetype": "text/x-python",
   "name": "python",
   "nbconvert_exporter": "python",
   "pygments_lexer": "ipython3",
   "version": "3.13.2"
  }
 },
 "nbformat": 4,
 "nbformat_minor": 2
}
