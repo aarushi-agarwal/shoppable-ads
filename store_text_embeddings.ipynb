{
 "cells": [
  {
   "cell_type": "code",
   "execution_count": 10,
   "metadata": {},
   "outputs": [
    {
     "name": "stdout",
     "output_type": "stream",
     "text": [
      "Embeddings saved to clip_text_embeddings.csv\n"
     ]
    }
   ],
   "source": [
    "import json\n",
    "import torch\n",
    "import open_clip\n",
    "import pandas as pd\n",
    "\n",
    "# Load CLIP model (Fixed model name)\n",
    "device = \"cpu\"  # Change to \"cuda\" if using GPU\n",
    "model_name = \"ViT-B-32\"  # Correct OpenCLIP model format\n",
    "model, _, preprocess = open_clip.create_model_and_transforms(model_name, pretrained=\"openai\", device=device)\n",
    "tokenizer = open_clip.get_tokenizer(model_name)\n",
    "\n",
    "# Load JSON file\n",
    "json_file_path = \"images/test_data.json\"  # Change this to your JSON file path\n",
    "\n",
    "# Read JSON file (handling potential formatting issues)\n",
    "with open(json_file_path, \"r\", encoding=\"utf-8\") as file:\n",
    "    data = [json.loads(line) for line in file.readlines()]\n",
    "\n",
    "# Extract product titles\n",
    "product_titles = [item[\"product_title\"] for item in data]\n",
    "\n",
    "# Tokenize and encode text\n",
    "text_inputs = tokenizer(product_titles).to(device)\n",
    "\n",
    "with torch.no_grad():\n",
    "    text_features = model.encode_text(text_inputs)\n",
    "\n",
    "# Normalize embeddings\n",
    "text_features /= text_features.norm(dim=-1, keepdim=True)\n",
    "\n",
    "# Convert to a list for storage\n",
    "embedding_list = text_features.cpu().numpy().tolist()\n",
    "\n",
    "# Create DataFrame\n",
    "df = pd.DataFrame({\"product_title\": product_titles, \"embedding\": embedding_list})\n",
    "\n",
    "# Save to CSV file\n",
    "output_csv_path = \"clip_text_embeddings.csv\"\n",
    "df.to_csv(output_csv_path, index=False)\n",
    "\n",
    "print(f\"Embeddings saved to {output_csv_path}\")\n"
   ]
  }
 ],
 "metadata": {
  "kernelspec": {
   "display_name": "Python 3",
   "language": "python",
   "name": "python3"
  },
  "language_info": {
   "codemirror_mode": {
    "name": "ipython",
    "version": 3
   },
   "file_extension": ".py",
   "mimetype": "text/x-python",
   "name": "python",
   "nbconvert_exporter": "python",
   "pygments_lexer": "ipython3",
   "version": "3.13.2"
  }
 },
 "nbformat": 4,
 "nbformat_minor": 2
}
